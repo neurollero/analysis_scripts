{
 "cells": [
  {
   "cell_type": "code",
   "execution_count": null,
   "metadata": {},
   "outputs": [],
   "source": [
    "import os\n",
    "import sys\n",
    "\n",
    "import numpy as np\n",
    "import matplotlib.pyplot as plt\n",
    "import pandas as pd\n",
    "\n",
    "import isx"
   ]
  },
  {
   "cell_type": "code",
   "execution_count": null,
   "metadata": {},
   "outputs": [],
   "source": [
    "def twoaxis(axname,lwidth=1.5):\n",
    "    #\n",
    "    # formats axes by setting axis thickness & ticks to lwidth and clearing top/right axes\n",
    "    #\n",
    "    #\n",
    "    axname.spines['bottom'].set_linewidth(lwidth)\n",
    "    axname.tick_params(width=lwidth)\n",
    "    axname.spines['left'].set_linewidth(lwidth)\n",
    "    axname.spines['top'].set_linewidth(0)\n",
    "    axname.spines['right'].set_linewidth(0)"
   ]
  },
  {
   "cell_type": "markdown",
   "metadata": {},
   "source": [
    "### Specify flags and auto-curation filters:"
   ]
  },
  {
   "cell_type": "code",
   "execution_count": null,
   "metadata": {},
   "outputs": [],
   "source": [
    "auto_curate = True # set to False if you want to use existing cellset curation\n",
    "detect_events = True # set to False if you want to use existing event isxd file\n",
    "export_metrics = True # set to False if you do not want to create a .csv for each cellset's metrics\n",
    "\n",
    "max_comps = 1. # maximum spatial components\n",
    "min_snr = 5. # minimum Signal to noise ratio\n",
    "min_event_rate = 0. # minimum event rate\n",
    "event_thresh = 3.5 # SNR threshold above local MAD for event detection"
   ]
  },
  {
   "cell_type": "markdown",
   "metadata": {},
   "source": [
    "### Metrics to save:"
   ]
  },
  {
   "cell_type": "code",
   "execution_count": null,
   "metadata": {},
   "outputs": [],
   "source": [
    "stats_to_do = ['snr', 'eventRate', 'decayMedian', 'overallAreaInPixels', 'cellName']\n"
   ]
  },
  {
   "cell_type": "markdown",
   "metadata": {},
   "source": [
    "### Load a cellset or all cellsets in a directory:"
   ]
  },
  {
   "cell_type": "code",
   "execution_count": null,
   "metadata": {},
   "outputs": [],
   "source": [
    "cellset_list = [''] # leave this empty to analyze all cellsets in directory = data_dir, or specify list of cellsets to analyze here\n",
    "data_dir = '/ariel/science/mmiller/data/longo_lab/'\n",
    "\n",
    "if len(cellset_list[0]) == 0:\n",
    "    print('getting cellsets from directory:\\n')\n",
    "    cellset_list = [data_dir + i for i in os.listdir(data_dir) if 'ICA.isxd' in i]\n",
    "    \n",
    "print(cellset_list)"
   ]
  },
  {
   "cell_type": "code",
   "execution_count": null,
   "metadata": {},
   "outputs": [],
   "source": [
    "for i in range(len(cellset_list)): # each cellset:\n",
    "    the_cellset = cellset_list[i]\n",
    "    print(the_cellset)\n",
    "    data_dir = os.path.dirname(the_cellset)\n",
    "    \n",
    "    # Event detection:\n",
    "    events_fn = isx.make_output_file_path(the_cellset, data_dir, 'ED')\n",
    "    if (os.path.isfile(events_fn) is False) or (detect_events is True):\n",
    "        print('Detecting events with {} SNR threshold...'.format(event_thresh))\n",
    "        if os.path.isfile(events_fn) is True:\n",
    "            os.remove(events_fn)\n",
    "        isx.event_detection(the_cellset, events_fn, threshold = event_thresh)\n",
    "    if auto_curate is True:\n",
    "        print('Auto curating cellset...')\n",
    "        isx.auto_accept_reject(the_cellset, events_fn, filters = [('# Comps', '=', max_comps), ('SNR', '>', min_snr), ('Event Rate', '>', min_event_rate)])\n",
    "\n",
    "    # Compile Metrics:\n",
    "    mets_fn = isx.make_output_file_path(the_cellset, data_dir, 'metrics')\n",
    "    if os.path.isfile(mets_fn):\n",
    "        os.remove(mets_fn)\n",
    "    print('Compiling cellset metrics...')\n",
    "    isx.cell_metrics(the_cellset, events_fn, mets_fn)\n",
    "\n",
    "    # find accepted cells:\n",
    "    accepted_cells = []\n",
    "    cellset = isx.CellSet.read(the_cellset)\n",
    "\n",
    "    for i in range(cellset.num_cells):\n",
    "        if cellset.get_cell_status(i) == 'accepted':\n",
    "            accepted_cells.append(cellset.get_cell_name(i))\n",
    "            \n",
    "    # create dataframe, filter it, and export it:        \n",
    "    df_mets = pd.read_csv(mets_fn)\n",
    "    df_out = df_mets[stats_to_do].loc[df_mets.cellName.isin(accepted_cells)]\n",
    "    df_out.reset_index(drop=True, inplace=True)\n",
    "    if export_metrics is True:\n",
    "        mets_fn = mets_fn = isx.make_output_file_path(the_cellset, data_dir, 'curated_metrics', ext = 'csv')\n",
    "        print('Saving metrics .csv file...')\n",
    "        df_out.to_csv(mets_fn)\n",
    "    print('\\t{} accepted cells\\n\\tMedian SNR: {}\\n\\tMedian event rate: {}\\n\\tMedian Decay (s): {}'\n",
    "          .format(len(accepted_cells), round(np.median(df_out.snr),2), round(np.median(df_out.eventRate),5), round(np.median(df_out.decayMedian),3)))\n",
    "    print('\\n')\n",
    "    "
   ]
  },
  {
   "cell_type": "markdown",
   "metadata": {},
   "source": [
    "***\n",
    "### Plot histograms for one cellset's metrics:"
   ]
  },
  {
   "cell_type": "code",
   "execution_count": null,
   "metadata": {},
   "outputs": [],
   "source": [
    "stats_to_do = ['snr', 'eventRate', 'decayMedian', 'overallAreaInPixels']\n",
    "bins = 25\n",
    "plotsize = 4\n",
    "\n",
    "\n",
    "# specify plotting ranges for metrics:\n",
    "stat_range = {'snr':(2,20), \n",
    "              'eventRate':(0,0.25), \n",
    "              'decayMedian':(0,10), \n",
    "              'overallAreaInPixels':(25,300), \n",
    "              'numCells':(0,500)}\n",
    "# plot labels:\n",
    "stat_labels = {'snr':'SNR', \n",
    "               'eventRate':'Ca events per second', \n",
    "               'decayMedian':'event decay (s)', \n",
    "               'overallAreaInPixels':'cell area (pixels)', \n",
    "               'numCells':'number of cells'}"
   ]
  },
  {
   "cell_type": "code",
   "execution_count": null,
   "metadata": {},
   "outputs": [],
   "source": [
    "cellset_list = ['/ariel/science/mmiller/data/longo_lab/2020-04-03-16-51-53_video-PP-BP-MC-DFF-PCA-ICA.isxd']\n",
    "metrics_list = [isx.make_output_file_path(i, os.path.dirname(i), 'curated_metrics', ext = 'csv') for i in cellset_list]\n",
    "print(metrics_list)\n",
    "df_mets = pd.read_csv(metrics_list[0], index_col=0)"
   ]
  },
  {
   "cell_type": "code",
   "execution_count": null,
   "metadata": {},
   "outputs": [],
   "source": [
    "cmap = plt.get_cmap('tab10')\n",
    "\n",
    "f,ax = plt.subplots(1,len(stats_to_do), figsize=((plotsize*1.5)*len(stats_to_do), plotsize))\n",
    "\n",
    "for a, stat in zip(ax, stats_to_do): # each stat\n",
    "    \n",
    "    h,hb = np.histogram(df_mets[stat], bins=bins)\n",
    "    a.step(hb, np.insert(h, 0,0), color=cmap(0))\n",
    "    a.vlines(np.median(df_mets[stat]), ymin=0,ymax=max(h), color='crimson', alpha=.5)\n",
    "    a.grid('on', alpha=.5)\n",
    "    a.set_xlabel(stat_labels[stat], fontsize=14)\n",
    "    a.set_ylabel('count', fontsize=14)\n",
    "    a.set_title('median = {}'.format(round(np.median(df_mets[stat]),4)), loc='center')\n",
    "    a.set_xlim(0,max(hb))\n",
    "    twoaxis(a)\n",
    "\n",
    "plt.show()"
   ]
  },
  {
   "cell_type": "markdown",
   "metadata": {},
   "source": [
    "***\n",
    "### Plot violin plots for all metrics in a directory (plotted together):"
   ]
  },
  {
   "cell_type": "code",
   "execution_count": null,
   "metadata": {},
   "outputs": [],
   "source": [
    "stats_to_do = ['snr', 'eventRate', 'decayMedian', 'overallAreaInPixels', 'numCells']\n",
    "\n",
    "# specify plotting ranges for metrics:\n",
    "stat_range = {'snr':(2,20), \n",
    "              'eventRate':(0,0.25), \n",
    "              'decayMedian':(0,10), \n",
    "              'overallAreaInPixels':(25,300), \n",
    "              'numCells':(0,500)}\n",
    "# plot labels:\n",
    "stat_labels = {'snr':'SNR', \n",
    "               'eventRate':'Ca events per second', \n",
    "               'decayMedian':'event decay (s)', \n",
    "               'overallAreaInPixels':'cell area (pixels)', \n",
    "               'numCells':'number of cells'}"
   ]
  },
  {
   "cell_type": "code",
   "execution_count": null,
   "metadata": {},
   "outputs": [],
   "source": [
    "cellset_list = [''] # leave this empty to analyze all cellsets in directory = data_dir, or specify list of cellsets to analyze here\n",
    "data_dir = '/ariel/science/mmiller/data/longo_lab/'\n",
    "\n",
    "if len(cellset_list[0]) == 0:\n",
    "    print('getting cellsets from directory:\\n')\n",
    "    cellset_list = [data_dir + i for i in os.listdir(data_dir) if 'ICA.isxd' in i]\n",
    "\n",
    "metrics_list = [isx.make_output_file_path(i, os.path.dirname(i), 'metrics') for i in cellset_list]\n",
    "datename_list = [os.path.basename(i)[:10] for i in metrics_list]\n",
    "print(metrics_list,'\\n')\n",
    "print(datename_list)"
   ]
  },
  {
   "cell_type": "code",
   "execution_count": null,
   "metadata": {},
   "outputs": [],
   "source": [
    "xjog = 1\n",
    "cmap = plt.get_cmap('tab10')\n",
    "\n",
    "stat_dict = dict.fromkeys(stats_to_do)\n",
    "\n",
    "for stat in stats_to_do:\n",
    "    f,ax = plt.subplots(1,1,figsize=(10,4))\n",
    "    #ax.set_title(stat, fontsize=14)\n",
    "    x_val = 0\n",
    "    for datename, met_fn, cellset_fn in zip(sorted(datename_list), sorted(metrics_list), sorted(cellset_list)):\n",
    "        stat_dict[datename] = {}\n",
    "        # load metrics:\n",
    "        df = pd.read_csv(met_fn)\n",
    "        \n",
    "        # find accepted cells:\n",
    "        accepted_cells = []\n",
    "        cellset = isx.CellSet.read(cellset_fn)\n",
    "        for i in range(cellset.num_cells):\n",
    "            if cellset.get_cell_status(i) == 'accepted':\n",
    "                accepted_cells.append(cellset.get_cell_name(i))\n",
    "        \n",
    "        # populate stats dictionary:\n",
    "        if stat is not 'numCells':\n",
    "            stat_vals = df[stat].loc[df.cellName.isin(accepted_cells)].values\n",
    "            stat_dict[datename][stat] = stat_vals\n",
    "\n",
    "            # violin plot:\n",
    "            parts = ax.violinplot(stat_vals, positions = [x_val], showextrema=False)\n",
    "            for pc in parts['bodies']:\n",
    "                pc.set_facecolor(cmap(0))\n",
    "                pc.set_edgecolor(cmap(0))\n",
    "                pc.set_alpha(.5)\n",
    "            ax.scatter(x_val, np.nanmedian(stat_vals), s=2000, marker='_', linewidth=4, color=cmap(0), alpha=1)            \n",
    "            \n",
    "        elif stat is 'numCells':\n",
    "            stat_vals = len(accepted_cells)\n",
    "            stat_dict[datename][stat] = len(accepted_cells)\n",
    "            ax.scatter(x_val, len(accepted_cells), s=2000, marker='_', linewidth=4, color=cmap(0), alpha=1 )\n",
    "            \n",
    "        x_val+=1        \n",
    "\n",
    "    ax.set_ylim(stat_range[stat][0], stat_range[stat][1])\n",
    "    ax.set_ylabel(stat_labels[stat], fontsize=14)\n",
    "    ax.set_xticks(np.arange(5))\n",
    "    ax.set_xticklabels([i for i in sorted(datename_list)], fontsize=12)\n",
    "    ax.set_xlabel('experiment', fontsize=14)\n",
    "    ax.grid('on', alpha=.5)\n",
    "    twoaxis(ax)\n",
    "    plt.show()\n",
    "    "
   ]
  }
 ],
 "metadata": {
  "kernelspec": {
   "display_name": "Python 3",
   "language": "python",
   "name": "python3"
  },
  "language_info": {
   "codemirror_mode": {
    "name": "ipython",
    "version": 3
   },
   "file_extension": ".py",
   "mimetype": "text/x-python",
   "name": "python",
   "nbconvert_exporter": "python",
   "pygments_lexer": "ipython3",
   "version": "3.6.10"
  }
 },
 "nbformat": 4,
 "nbformat_minor": 4
}
